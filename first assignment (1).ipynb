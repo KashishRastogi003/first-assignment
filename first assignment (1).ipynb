{
 "cells": [
  {
   "cell_type": "code",
   "execution_count": null,
   "id": "abf9dbe3-25b4-46a3-9251-014b10bdc3d4",
   "metadata": {},
   "outputs": [],
   "source": [
    "\n",
    "# Explain the key features of Python that make it a popular choice for programming\n",
    "\n",
    "# Key features of python are:-\n",
    "#  Beginner friendly: Python is beginner-friendly, making it a great choice for people who are new to programming.\n",
    "# Readability: Python's syntax is designed to be easily readable and has a relatively simple structure, making it a great choice for beginners.\n",
    "# Dynamically Typed: Python is dynamically typed, meaning that data types are determined at runtime, making it more flexible than statically typed languages.\n",
    "# Large Standard Library: Python has a large and comprehensive standard library that covers a wide range of tasks, such as connecting to web servers, reading and writing files, and working with data.\n",
    "# Open Source: Python is open source software, meaning that it can be freely used, modified, and distributed, making it a cost-effective choice for many applications.\n",
    "# Portable: Python is portable, meaning that code written in Python can run on any platform that supports a Python interpreter, making it a versatile choice for cross-platform development.\n",
    "# Also python language is a widely used language in the industry as well as it is easy to read and versatile.\n",
    "\n",
    "\n"
   ]
  },
  {
   "cell_type": "code",
   "execution_count": null,
   "id": "9e77f831-667c-44c9-8fe3-d5fa226e735f",
   "metadata": {},
   "outputs": [],
   "source": [
    "#  Describe the role of predefined keywords in Python and provide examples of how they are used in a\n",
    "# prgramming\n",
    "\n",
    "# The purpose of keywords is to define the syntax of the code.Python keywords are reserved words that have a special meaning in the language and cannot be used as variable names or any other identifier names. They are used to define the syntax and structure of the python language.\n",
    "\n",
    "# Keywords are:-\n",
    "# And ,or, not ,if ,elif, else ,for ,break ,continue ,if, while ,none, true ,false ,class , is, in etc\n",
    "# break -This is used to terminate the loop.\n",
    "# while -This keyword is used to create a while loop.It repeatedly execute a block of code untill a condition is met\n",
    "# else -Else is used with if and elif conditional statements. The else block is executed if the given condition is not true.\n",
    "# if -This is used to make a conditional statement.\n",
    "# and-This is a logical operator which returns true if both the operands are true else returns false.\n",
    "# or-This is also a logical operator which returns true if anyone operand is true else returns false.\n",
    "# elif -Elif is a condition statement used with an if statement. The elif statement is executed if the previous conditions were not true.\n",
    "# continue-It continues to the next iteration of a loop\n",
    "# True-This is a boolean value.\n",
    "# False-This is  a boolean value.\n",
    "# or-This is also a logical operator which returns true if anyone operand is true else returns false.\n",
    "# class-It helps us to define a class.\n",
    "# none-This is a special constant used to denote a null value.\n",
    "# is-\tThis is used to check if the two variables are equal or not.\n",
    "# in-It’s used to check whether a value is present in a list, range, etc.\n",
    "\n"
   ]
  },
  {
   "cell_type": "code",
   "execution_count": 2,
   "id": "8edb64b5-c0f8-4ac9-bba0-d4304c241cb4",
   "metadata": {},
   "outputs": [
    {
     "data": {
      "text/plain": [
       "[1, 2, 5, 8.9, (6+8j), True, 'Kavita']"
      ]
     },
     "execution_count": 2,
     "metadata": {},
     "output_type": "execute_result"
    }
   ],
   "source": [
    " #Compare and contrast mutable and immutable objects in Python with examples\n",
    " \n",
    "  #objects/container whose state or value can be changed after they are created are called mutable objects or conatiner also called as item assignment\n",
    "#list is a type of mutable objects/supports item assignmment\n",
    "\n",
    "#objects/container whose state or value cannot  be changed after they are created are called im- mutable objects or conatiner \n",
    "#string is a type of immutable objects/it does not supports item assignmment\n",
    "\n",
    "#Example:-\n",
    "\n",
    "\n",
    "list_cont=[1, 2, 5, 8.9, 6+8j, True, \"Kavita\"]\n",
    "list_cont\n",
    " \n",
    " \n",
    " \n",
    " \n",
    " \n",
    "    \n"
   ]
  },
  {
   "cell_type": "code",
   "execution_count": 3,
   "id": "a24049c2-e8da-41ad-95ab-6369bd7b6ddb",
   "metadata": {},
   "outputs": [
    {
     "data": {
      "text/plain": [
       "1"
      ]
     },
     "execution_count": 3,
     "metadata": {},
     "output_type": "execute_result"
    }
   ],
   "source": [
    "list_cont[0]"
   ]
  },
  {
   "cell_type": "code",
   "execution_count": 4,
   "id": "6256d2b6-0f09-49f4-9729-d9cf1055f9c7",
   "metadata": {},
   "outputs": [
    {
     "data": {
      "text/plain": [
       "True"
      ]
     },
     "execution_count": 4,
     "metadata": {},
     "output_type": "execute_result"
    }
   ],
   "source": [
    "list_cont[5]"
   ]
  },
  {
   "cell_type": "code",
   "execution_count": 10,
   "id": "991616d1-7286-4b0d-8ff0-8641f5f090e6",
   "metadata": {},
   "outputs": [
    {
     "data": {
      "text/plain": [
       "[1, 2, 5, 8.9, (6+8j), True, 'Kashish']"
      ]
     },
     "execution_count": 10,
     "metadata": {},
     "output_type": "execute_result"
    }
   ],
   "source": [
    "#mutability\n",
    "\n",
    "list_cont[6] = \"Kashish\"\n",
    "list_cont"
   ]
  },
  {
   "cell_type": "code",
   "execution_count": 11,
   "id": "314b5532-e933-4397-a420-ced88d781f19",
   "metadata": {},
   "outputs": [
    {
     "data": {
      "text/plain": [
       "[1, 2, 5, 8.9, (6+8j), True, 'Kavita']"
      ]
     },
     "execution_count": 11,
     "metadata": {},
     "output_type": "execute_result"
    }
   ],
   "source": [
    "list_cont=[1, 2, 5, 8.9, 6+8j, True, \"Kavita\"]\n",
    "list_cont\n",
    " "
   ]
  },
  {
   "cell_type": "code",
   "execution_count": 13,
   "id": "72f1838b-c5f0-4167-b49c-864226d022bf",
   "metadata": {},
   "outputs": [
    {
     "data": {
      "text/plain": [
       "[1, 'pwskills', 5, 8.9, (6+8j), True, 'Kavita']"
      ]
     },
     "execution_count": 13,
     "metadata": {},
     "output_type": "execute_result"
    }
   ],
   "source": [
    "list_cont[1]=\"pwskills\"\n",
    "list_cont"
   ]
  },
  {
   "cell_type": "code",
   "execution_count": 14,
   "id": "95c5fdd0-0086-42f1-b530-e08302ba7d3c",
   "metadata": {},
   "outputs": [
    {
     "data": {
      "text/plain": [
       "['230', 'pwskills', 5, 8.9, (6+8j), True, 'Kavita']"
      ]
     },
     "execution_count": 14,
     "metadata": {},
     "output_type": "execute_result"
    }
   ],
   "source": [
    "list_cont[0]=\"230\"\n",
    "list_cont\n"
   ]
  },
  {
   "cell_type": "code",
   "execution_count": 17,
   "id": "08ec9105-870f-4826-b0da-c35a80c3e8f1",
   "metadata": {},
   "outputs": [
    {
     "data": {
      "text/plain": [
       "'pwskills'"
      ]
     },
     "execution_count": 17,
     "metadata": {},
     "output_type": "execute_result"
    }
   ],
   "source": [
    "b=\"pwskills\"\n",
    "b\n"
   ]
  },
  {
   "cell_type": "code",
   "execution_count": 18,
   "id": "4c2ed214-62de-40de-bda2-2d424af3afcb",
   "metadata": {},
   "outputs": [
    {
     "ename": "TypeError",
     "evalue": "'str' object does not support item assignment",
     "output_type": "error",
     "traceback": [
      "\u001b[0;31m---------------------------------------------------------------------------\u001b[0m",
      "\u001b[0;31mTypeError\u001b[0m                                 Traceback (most recent call last)",
      "Cell \u001b[0;32mIn[18], line 1\u001b[0m\n\u001b[0;32m----> 1\u001b[0m \u001b[43mb\u001b[49m\u001b[43m[\u001b[49m\u001b[38;5;241;43m0\u001b[39;49m\u001b[43m]\u001b[49m\u001b[38;5;241m=\u001b[39m\u001b[38;5;124m\"\u001b[39m\u001b[38;5;124mI\u001b[39m\u001b[38;5;124m\"\u001b[39m\n",
      "\u001b[0;31mTypeError\u001b[0m: 'str' object does not support item assignment"
     ]
    }
   ],
   "source": [
    "#immutability\n",
    "b[0]=\"I\""
   ]
  },
  {
   "cell_type": "code",
   "execution_count": 19,
   "id": "4d548a39-90f0-4288-a918-17424b088fdc",
   "metadata": {},
   "outputs": [
    {
     "data": {
      "text/plain": [
       "'p'"
      ]
     },
     "execution_count": 19,
     "metadata": {},
     "output_type": "execute_result"
    }
   ],
   "source": [
    "b[0]"
   ]
  },
  {
   "cell_type": "code",
   "execution_count": 20,
   "id": "b2fe4f83-da1d-4426-9553-3da2d7847900",
   "metadata": {},
   "outputs": [
    {
     "data": {
      "text/plain": [
       "'l'"
      ]
     },
     "execution_count": 20,
     "metadata": {},
     "output_type": "execute_result"
    }
   ],
   "source": [
    "b[5]"
   ]
  },
  {
   "cell_type": "code",
   "execution_count": 21,
   "id": "21cfff7c-4196-4147-8ea6-2969015e52f5",
   "metadata": {},
   "outputs": [
    {
     "data": {
      "text/plain": [
       "204"
      ]
     },
     "execution_count": 21,
     "metadata": {},
     "output_type": "execute_result"
    }
   ],
   "source": [
    "# Discuss the different types of operators in Python and provide examples of how they are used\n",
    "\n",
    "#opertors are special keywords to perform operatiors \n",
    "\n",
    "#Examples of operators are:-\n",
    "\n",
    "#arithmetic operators-are used to perform basic mathematical operations like addition, subtraction, multiplication, and division.\n",
    "\n",
    "200+4"
   ]
  },
  {
   "cell_type": "code",
   "execution_count": 22,
   "id": "2028fa64-8e51-4a09-a961-b14d542fc405",
   "metadata": {},
   "outputs": [
    {
     "data": {
      "text/plain": [
       "65"
      ]
     },
     "execution_count": 22,
     "metadata": {},
     "output_type": "execute_result"
    }
   ],
   "source": [
    "105-40"
   ]
  },
  {
   "cell_type": "code",
   "execution_count": 23,
   "id": "b695a4f2-5dd4-4c4e-a362-bb932d4664c3",
   "metadata": {},
   "outputs": [
    {
     "data": {
      "text/plain": [
       "80"
      ]
     },
     "execution_count": 23,
     "metadata": {},
     "output_type": "execute_result"
    }
   ],
   "source": [
    "20*4"
   ]
  },
  {
   "cell_type": "code",
   "execution_count": 24,
   "id": "dbc477dd-048f-405a-830b-bfe7f721663a",
   "metadata": {},
   "outputs": [
    {
     "data": {
      "text/plain": [
       "10.0"
      ]
     },
     "execution_count": 24,
     "metadata": {},
     "output_type": "execute_result"
    }
   ],
   "source": [
    "30/3"
   ]
  },
  {
   "cell_type": "code",
   "execution_count": 25,
   "id": "b97fd057-31af-4aee-90ac-f3f07c198094",
   "metadata": {},
   "outputs": [
    {
     "data": {
      "text/plain": [
       "0"
      ]
     },
     "execution_count": 25,
     "metadata": {},
     "output_type": "execute_result"
    }
   ],
   "source": [
    "#modulus opeators\n",
    "\n",
    "50%5"
   ]
  },
  {
   "cell_type": "code",
   "execution_count": 26,
   "id": "82f3b395-898f-42b2-95c1-4de1724fd679",
   "metadata": {},
   "outputs": [
    {
     "data": {
      "text/plain": [
       "2"
      ]
     },
     "execution_count": 26,
     "metadata": {},
     "output_type": "execute_result"
    }
   ],
   "source": [
    "30%4"
   ]
  },
  {
   "cell_type": "code",
   "execution_count": 27,
   "id": "eb46cc53-7565-470f-b255-ff5d77b4a4cc",
   "metadata": {},
   "outputs": [
    {
     "data": {
      "text/plain": [
       "14348907"
      ]
     },
     "execution_count": 27,
     "metadata": {},
     "output_type": "execute_result"
    }
   ],
   "source": [
    "3**15 #3 to the power 15"
   ]
  },
  {
   "cell_type": "code",
   "execution_count": 28,
   "id": "0b4e3eb7-0721-4254-bdc2-731dc9e733c0",
   "metadata": {},
   "outputs": [
    {
     "data": {
      "text/plain": [
       "281474976710656"
      ]
     },
     "execution_count": 28,
     "metadata": {},
     "output_type": "execute_result"
    }
   ],
   "source": [
    "4**24"
   ]
  },
  {
   "cell_type": "code",
   "execution_count": 29,
   "id": "79c24456-f941-4afb-8ca1-68eb6ad548cd",
   "metadata": {},
   "outputs": [
    {
     "data": {
      "text/plain": [
       "2"
      ]
     },
     "execution_count": 29,
     "metadata": {},
     "output_type": "execute_result"
    }
   ],
   "source": [
    "# floor operators- means bringing value on lower side\n",
    "\n",
    "4//2\n",
    "\n",
    "\n"
   ]
  },
  {
   "cell_type": "code",
   "execution_count": 30,
   "id": "7fdc502f-9897-4de7-8015-df5c21f326c8",
   "metadata": {},
   "outputs": [
    {
     "data": {
      "text/plain": [
       "10"
      ]
     },
     "execution_count": 30,
     "metadata": {},
     "output_type": "execute_result"
    }
   ],
   "source": [
    "40//4"
   ]
  },
  {
   "cell_type": "code",
   "execution_count": 31,
   "id": "ffeb7c74-a0cc-490c-a326-afa7fb22ee08",
   "metadata": {},
   "outputs": [
    {
     "data": {
      "text/plain": [
       "True"
      ]
     },
     "execution_count": 31,
     "metadata": {},
     "output_type": "execute_result"
    }
   ],
   "source": [
    "#comparison operator>> compare two values and return a boolean value\n",
    "\n",
    "4==4\n",
    "\n",
    "\n"
   ]
  },
  {
   "cell_type": "code",
   "execution_count": 32,
   "id": "31fa8e6d-485a-4136-b806-4087b5c36c01",
   "metadata": {},
   "outputs": [
    {
     "data": {
      "text/plain": [
       "True"
      ]
     },
     "execution_count": 32,
     "metadata": {},
     "output_type": "execute_result"
    }
   ],
   "source": [
    "8!=1"
   ]
  },
  {
   "cell_type": "code",
   "execution_count": 33,
   "id": "b32ea2e0-62f5-4cb4-8ec4-ebf1dd9568f3",
   "metadata": {},
   "outputs": [
    {
     "data": {
      "text/plain": [
       "False"
      ]
     },
     "execution_count": 33,
     "metadata": {},
     "output_type": "execute_result"
    }
   ],
   "source": [
    "3>5"
   ]
  },
  {
   "cell_type": "code",
   "execution_count": 34,
   "id": "ac130125-732b-4912-b917-f674708b7bb9",
   "metadata": {},
   "outputs": [
    {
     "data": {
      "text/plain": [
       "False"
      ]
     },
     "execution_count": 34,
     "metadata": {},
     "output_type": "execute_result"
    }
   ],
   "source": [
    "10>20"
   ]
  },
  {
   "cell_type": "code",
   "execution_count": 35,
   "id": "e8163043-3039-48dd-887a-b22893792437",
   "metadata": {},
   "outputs": [
    {
     "data": {
      "text/plain": [
       "True"
      ]
     },
     "execution_count": 35,
     "metadata": {},
     "output_type": "execute_result"
    }
   ],
   "source": [
    "#logical operator- It is used to combine conditional statements.\n",
    "#and\n",
    "#or\n",
    "\n",
    "\n",
    "True and True"
   ]
  },
  {
   "cell_type": "code",
   "execution_count": 36,
   "id": "9dd7afa1-b431-40cb-8cda-6e1b66343140",
   "metadata": {},
   "outputs": [
    {
     "data": {
      "text/plain": [
       "True"
      ]
     },
     "execution_count": 36,
     "metadata": {},
     "output_type": "execute_result"
    }
   ],
   "source": [
    "True or False"
   ]
  },
  {
   "cell_type": "code",
   "execution_count": 37,
   "id": "bee1c0ab-e75e-41b5-8cf4-42d4d259da1f",
   "metadata": {},
   "outputs": [
    {
     "data": {
      "text/plain": [
       "False"
      ]
     },
     "execution_count": 37,
     "metadata": {},
     "output_type": "execute_result"
    }
   ],
   "source": [
    "False and True "
   ]
  },
  {
   "cell_type": "code",
   "execution_count": 38,
   "id": "84c640a2-5932-4261-9163-6ef7d4748ab4",
   "metadata": {},
   "outputs": [
    {
     "data": {
      "text/plain": [
       "False"
      ]
     },
     "execution_count": 38,
     "metadata": {},
     "output_type": "execute_result"
    }
   ],
   "source": [
    "#not operator\n",
    "\n",
    "not True "
   ]
  },
  {
   "cell_type": "code",
   "execution_count": 39,
   "id": "078de183-c044-4123-b930-7dacb94040b0",
   "metadata": {},
   "outputs": [
    {
     "data": {
      "text/plain": [
       "True"
      ]
     },
     "execution_count": 39,
     "metadata": {},
     "output_type": "execute_result"
    }
   ],
   "source": [
    "not False"
   ]
  },
  {
   "cell_type": "code",
   "execution_count": 44,
   "id": "f0f48d8f-83ce-448e-b1be-6178e1c7e023",
   "metadata": {},
   "outputs": [
    {
     "data": {
      "text/plain": [
       "14"
      ]
     },
     "execution_count": 44,
     "metadata": {},
     "output_type": "execute_result"
    }
   ],
   "source": [
    "# assignmment operator -are used to assign values to the variables.\n",
    "\n",
    "a=14\n",
    "a"
   ]
  },
  {
   "cell_type": "code",
   "execution_count": 45,
   "id": "6a71b492-754d-4d8e-9483-34333ef6db0d",
   "metadata": {},
   "outputs": [
    {
     "data": {
      "text/plain": [
       "26"
      ]
     },
     "execution_count": 45,
     "metadata": {},
     "output_type": "execute_result"
    }
   ],
   "source": [
    "b=10\n",
    "b+16\n"
   ]
  },
  {
   "cell_type": "code",
   "execution_count": 46,
   "id": "e815e0fe-3845-491f-9556-7306366107e8",
   "metadata": {},
   "outputs": [
    {
     "data": {
      "text/plain": [
       "7"
      ]
     },
     "execution_count": 46,
     "metadata": {},
     "output_type": "execute_result"
    }
   ],
   "source": [
    "b=12\n",
    "b-=5\n",
    "b"
   ]
  },
  {
   "cell_type": "code",
   "execution_count": 49,
   "id": "04584122-18cf-4eb8-9a17-8951c9396a70",
   "metadata": {},
   "outputs": [
    {
     "data": {
      "text/plain": [
       "112"
      ]
     },
     "execution_count": 49,
     "metadata": {},
     "output_type": "execute_result"
    }
   ],
   "source": [
    "b*=4\n",
    "b"
   ]
  },
  {
   "cell_type": "code",
   "execution_count": 50,
   "id": "69e419ba-ba61-46bc-bb51-1c9e5c13e0ec",
   "metadata": {},
   "outputs": [
    {
     "data": {
      "text/plain": [
       "True"
      ]
     },
     "execution_count": 50,
     "metadata": {},
     "output_type": "execute_result"
    }
   ],
   "source": [
    "#membership operator- that are used to test whether a value or variable is in a sequence.\n",
    "\n",
    "\n",
    "a=\"pwskills\"\n",
    "\"p\"in a \n"
   ]
  },
  {
   "cell_type": "code",
   "execution_count": 51,
   "id": "4ec4cf2b-a65e-46ad-b8e1-8fe228789bc4",
   "metadata": {},
   "outputs": [
    {
     "data": {
      "text/plain": [
       "False"
      ]
     },
     "execution_count": 51,
     "metadata": {},
     "output_type": "execute_result"
    }
   ],
   "source": [
    "\"p\" not in a "
   ]
  },
  {
   "cell_type": "code",
   "execution_count": 52,
   "id": "aff50d22-3c0b-49a6-8679-3dc9552c146d",
   "metadata": {},
   "outputs": [
    {
     "data": {
      "text/plain": [
       "False"
      ]
     },
     "execution_count": 52,
     "metadata": {},
     "output_type": "execute_result"
    }
   ],
   "source": [
    "b= \"Shalini\"\n",
    "\"am\"in b"
   ]
  },
  {
   "cell_type": "code",
   "execution_count": 53,
   "id": "7dafe4bc-44ba-4f10-ad65-4a62ed0c96c5",
   "metadata": {},
   "outputs": [
    {
     "data": {
      "text/plain": [
       "True"
      ]
     },
     "execution_count": 53,
     "metadata": {},
     "output_type": "execute_result"
    }
   ],
   "source": [
    "#identity operators-compares the location of two objects/varaibles\n",
    "\n",
    "a=2\n",
    "b=a\n",
    "a is b "
   ]
  },
  {
   "cell_type": "code",
   "execution_count": 54,
   "id": "2854c1f0-c8da-4f20-83d0-08e00ccc14ed",
   "metadata": {},
   "outputs": [
    {
     "data": {
      "text/plain": [
       "False"
      ]
     },
     "execution_count": 54,
     "metadata": {},
     "output_type": "execute_result"
    }
   ],
   "source": [
    "a=3\n",
    "b=5\n",
    "a is b #as a and b are referring to diff variables"
   ]
  },
  {
   "cell_type": "code",
   "execution_count": 55,
   "id": "d0428ff8-7b14-4faa-885c-6d0adebc8d5c",
   "metadata": {},
   "outputs": [
    {
     "data": {
      "text/plain": [
       "10"
      ]
     },
     "execution_count": 55,
     "metadata": {},
     "output_type": "execute_result"
    }
   ],
   "source": [
    "#bitwise operators- operations at bit level, manipulating individual bits within integers\n",
    "\n",
    "10&10"
   ]
  },
  {
   "cell_type": "code",
   "execution_count": 56,
   "id": "5a750b54-6226-4965-9389-f0bebc5010c7",
   "metadata": {},
   "outputs": [
    {
     "data": {
      "text/plain": [
       "'0b1010'"
      ]
     },
     "execution_count": 56,
     "metadata": {},
     "output_type": "execute_result"
    }
   ],
   "source": [
    "bin(10)"
   ]
  },
  {
   "cell_type": "code",
   "execution_count": 57,
   "id": "e4219a81-cacd-4480-9946-af7036815bb3",
   "metadata": {},
   "outputs": [
    {
     "data": {
      "text/plain": [
       "'0b1010'"
      ]
     },
     "execution_count": 57,
     "metadata": {},
     "output_type": "execute_result"
    }
   ],
   "source": [
    "bin(10)"
   ]
  },
  {
   "cell_type": "code",
   "execution_count": 58,
   "id": "ddda9749-8dbc-44e2-a92d-6b3dbf27f664",
   "metadata": {},
   "outputs": [
    {
     "data": {
      "text/plain": [
       "4"
      ]
     },
     "execution_count": 58,
     "metadata": {},
     "output_type": "execute_result"
    }
   ],
   "source": [
    "20&7"
   ]
  },
  {
   "cell_type": "code",
   "execution_count": 59,
   "id": "48865ff4-5072-4c50-9713-bf5e3c3ec5e9",
   "metadata": {},
   "outputs": [
    {
     "data": {
      "text/plain": [
       "'0b10100'"
      ]
     },
     "execution_count": 59,
     "metadata": {},
     "output_type": "execute_result"
    }
   ],
   "source": [
    "bin(20)"
   ]
  },
  {
   "cell_type": "code",
   "execution_count": 60,
   "id": "b3783c45-3e1e-4d76-b05a-a68356f10198",
   "metadata": {},
   "outputs": [
    {
     "data": {
      "text/plain": [
       "'0b111'"
      ]
     },
     "execution_count": 60,
     "metadata": {},
     "output_type": "execute_result"
    }
   ],
   "source": [
    "bin(7)"
   ]
  },
  {
   "cell_type": "code",
   "execution_count": 61,
   "id": "d53d6de7-e488-4e23-b744-12afdff3b765",
   "metadata": {},
   "outputs": [
    {
     "data": {
      "text/plain": [
       "'0b100'"
      ]
     },
     "execution_count": 61,
     "metadata": {},
     "output_type": "execute_result"
    }
   ],
   "source": [
    "bin(4)"
   ]
  },
  {
   "cell_type": "code",
   "execution_count": 62,
   "id": "85b061ac-aaa0-4cb3-9719-11e10edef497",
   "metadata": {},
   "outputs": [
    {
     "data": {
      "text/plain": [
       "3"
      ]
     },
     "execution_count": 62,
     "metadata": {},
     "output_type": "execute_result"
    }
   ],
   "source": [
    "3|3"
   ]
  },
  {
   "cell_type": "code",
   "execution_count": 63,
   "id": "172e17ac-04d7-4cc2-aa73-6ccfb0e364f0",
   "metadata": {},
   "outputs": [
    {
     "data": {
      "text/plain": [
       "'0b11'"
      ]
     },
     "execution_count": 63,
     "metadata": {},
     "output_type": "execute_result"
    }
   ],
   "source": [
    "bin(3)"
   ]
  },
  {
   "cell_type": "code",
   "execution_count": 64,
   "id": "9e95827a-1716-42c5-a1c1-d031bff6506f",
   "metadata": {},
   "outputs": [
    {
     "data": {
      "text/plain": [
       "'0b11'"
      ]
     },
     "execution_count": 64,
     "metadata": {},
     "output_type": "execute_result"
    }
   ],
   "source": [
    "bin(3)"
   ]
  },
  {
   "cell_type": "code",
   "execution_count": 65,
   "id": "6771a7da-5431-4d91-9d28-616b20a7bee9",
   "metadata": {},
   "outputs": [
    {
     "data": {
      "text/plain": [
       "4"
      ]
     },
     "execution_count": 65,
     "metadata": {},
     "output_type": "execute_result"
    }
   ],
   "source": [
    "#bitwise xor operator>> ^\n",
    "#xor>> returns 1 when exactly one operand is 1 \n",
    "\n",
    "\n",
    "2^6"
   ]
  },
  {
   "cell_type": "code",
   "execution_count": 66,
   "id": "360034ff-93ca-4379-a39f-3a983fcdf874",
   "metadata": {},
   "outputs": [
    {
     "data": {
      "text/plain": [
       "'0b10'"
      ]
     },
     "execution_count": 66,
     "metadata": {},
     "output_type": "execute_result"
    }
   ],
   "source": [
    "bin(2)"
   ]
  },
  {
   "cell_type": "code",
   "execution_count": 67,
   "id": "c634b763-958e-45c0-9e3a-4ea1ccf7f91f",
   "metadata": {},
   "outputs": [
    {
     "data": {
      "text/plain": [
       "'0b110'"
      ]
     },
     "execution_count": 67,
     "metadata": {},
     "output_type": "execute_result"
    }
   ],
   "source": [
    "bin(6)"
   ]
  },
  {
   "cell_type": "code",
   "execution_count": 68,
   "id": "9800a8ff-ff10-474c-b952-c5777f469b1c",
   "metadata": {},
   "outputs": [
    {
     "data": {
      "text/plain": [
       "'0b100'"
      ]
     },
     "execution_count": 68,
     "metadata": {},
     "output_type": "execute_result"
    }
   ],
   "source": [
    "bin(4)"
   ]
  },
  {
   "cell_type": "code",
   "execution_count": 69,
   "id": "f576ef85-6191-46b0-a6c8-8340db936805",
   "metadata": {},
   "outputs": [
    {
     "data": {
      "text/plain": [
       "280"
      ]
     },
     "execution_count": 69,
     "metadata": {},
     "output_type": "execute_result"
    }
   ],
   "source": [
    "#shift operator>> left shift and right shift\n",
    "\n",
    "#left shift-shifts the bits to the left by a specified no of position , filling #0's of the right\n",
    "35<<3"
   ]
  },
  {
   "cell_type": "code",
   "execution_count": 70,
   "id": "2f4e2d4e-4337-41ac-b66b-fcd02b8b2b0c",
   "metadata": {},
   "outputs": [
    {
     "data": {
      "text/plain": [
       "'0b100011'"
      ]
     },
     "execution_count": 70,
     "metadata": {},
     "output_type": "execute_result"
    }
   ],
   "source": [
    "bin(35)"
   ]
  },
  {
   "cell_type": "code",
   "execution_count": 71,
   "id": "c8134c28-1b7b-486a-b735-3257ba059fe8",
   "metadata": {},
   "outputs": [
    {
     "data": {
      "text/plain": [
       "'0b100011000'"
      ]
     },
     "execution_count": 71,
     "metadata": {},
     "output_type": "execute_result"
    }
   ],
   "source": [
    "bin(280)"
   ]
  },
  {
   "cell_type": "code",
   "execution_count": 72,
   "id": "3f13aeb7-6b6e-4ebc-8d15-a13451901e3c",
   "metadata": {},
   "outputs": [
    {
     "data": {
      "text/plain": [
       "5"
      ]
     },
     "execution_count": 72,
     "metadata": {},
     "output_type": "execute_result"
    }
   ],
   "source": [
    "#right  shift operator-->> - removed the no of elements in the binary\n",
    "\n",
    "10>>1"
   ]
  },
  {
   "cell_type": "code",
   "execution_count": 73,
   "id": "d01d068d-c3ce-44bf-a544-99c2c580e972",
   "metadata": {},
   "outputs": [
    {
     "data": {
      "text/plain": [
       "'0b1010'"
      ]
     },
     "execution_count": 73,
     "metadata": {},
     "output_type": "execute_result"
    }
   ],
   "source": [
    "bin(10)"
   ]
  },
  {
   "cell_type": "code",
   "execution_count": 74,
   "id": "3557da9b-2853-483c-9139-36326ec33a36",
   "metadata": {},
   "outputs": [
    {
     "data": {
      "text/plain": [
       "'0b101'"
      ]
     },
     "execution_count": 74,
     "metadata": {},
     "output_type": "execute_result"
    }
   ],
   "source": [
    "bin(5)"
   ]
  },
  {
   "cell_type": "code",
   "execution_count": 75,
   "id": "d60863d0-93b7-4d3f-8492-2d1e24659a37",
   "metadata": {},
   "outputs": [
    {
     "name": "stdout",
     "output_type": "stream",
     "text": [
      "<class 'str'>\n",
      "<class 'int'>\n"
     ]
    }
   ],
   "source": [
    "#Explain the concept of type casting in Python with examples\n",
    "\n",
    "#Typecasting means the process of changing the data type of a value/object\n",
    "\n",
    "#string to integer\n",
    "a=\"48\"\n",
    "print(type(a))\n",
    "print(type(int(a)))\n",
    "\n",
    "\n"
   ]
  },
  {
   "cell_type": "code",
   "execution_count": 76,
   "id": "51253406-e8ee-4cc6-b686-0dac02c2584e",
   "metadata": {},
   "outputs": [
    {
     "data": {
      "text/plain": [
       "48"
      ]
     },
     "execution_count": 76,
     "metadata": {},
     "output_type": "execute_result"
    }
   ],
   "source": [
    "int(a)"
   ]
  },
  {
   "cell_type": "code",
   "execution_count": 77,
   "id": "98e4d33d-3d5c-4ad5-8832-bfb37ff35a64",
   "metadata": {},
   "outputs": [
    {
     "data": {
      "text/plain": [
       "int"
      ]
     },
     "execution_count": 77,
     "metadata": {},
     "output_type": "execute_result"
    }
   ],
   "source": [
    "#float to integer\n",
    "\n",
    "c=7.80\n",
    "type(c)\n",
    "float_value=int(c)\n",
    "type(float_value)"
   ]
  },
  {
   "cell_type": "code",
   "execution_count": 78,
   "id": "06325692-b98b-4a30-a119-f37839e7fb3a",
   "metadata": {},
   "outputs": [
    {
     "data": {
      "text/plain": [
       "7"
      ]
     },
     "execution_count": 78,
     "metadata": {},
     "output_type": "execute_result"
    }
   ],
   "source": [
    "int(c)"
   ]
  },
  {
   "cell_type": "code",
   "execution_count": 79,
   "id": "64560700-9978-41cb-8f98-9ce76eef33c0",
   "metadata": {},
   "outputs": [
    {
     "data": {
      "text/plain": [
       "int"
      ]
     },
     "execution_count": 79,
     "metadata": {},
     "output_type": "execute_result"
    }
   ],
   "source": [
    "#integer to float\n",
    "\n",
    "a=2\n",
    "type(a)"
   ]
  },
  {
   "cell_type": "code",
   "execution_count": 80,
   "id": "9f5d5414-0834-43c9-86f5-47b48eacae28",
   "metadata": {},
   "outputs": [
    {
     "data": {
      "text/plain": [
       "2.0"
      ]
     },
     "execution_count": 80,
     "metadata": {},
     "output_type": "execute_result"
    }
   ],
   "source": [
    "float(a)"
   ]
  },
  {
   "cell_type": "code",
   "execution_count": 81,
   "id": "89ff9a4b-32f2-41ca-98d3-a589d08495e5",
   "metadata": {},
   "outputs": [
    {
     "data": {
      "text/plain": [
       "str"
      ]
     },
     "execution_count": 81,
     "metadata": {},
     "output_type": "execute_result"
    }
   ],
   "source": [
    "#string to float\n",
    "\n",
    "c=\"7.67\"\n",
    "type(c)\n",
    "\n"
   ]
  },
  {
   "cell_type": "code",
   "execution_count": 82,
   "id": "5de00ee6-7659-42c8-b8fa-f8298c0b0a14",
   "metadata": {},
   "outputs": [
    {
     "data": {
      "text/plain": [
       "float"
      ]
     },
     "execution_count": 82,
     "metadata": {},
     "output_type": "execute_result"
    }
   ],
   "source": [
    "d=float(c)\n",
    "type(d)\n"
   ]
  },
  {
   "cell_type": "code",
   "execution_count": 83,
   "id": "8410fed1-4d7b-49d0-b11f-d4011b841e48",
   "metadata": {},
   "outputs": [
    {
     "data": {
      "text/plain": [
       "7.67"
      ]
     },
     "execution_count": 83,
     "metadata": {},
     "output_type": "execute_result"
    }
   ],
   "source": [
    "float(d)"
   ]
  },
  {
   "cell_type": "code",
   "execution_count": 84,
   "id": "ded3a8bc-6bcc-4029-935b-d6cf19d09281",
   "metadata": {},
   "outputs": [
    {
     "data": {
      "text/plain": [
       "int"
      ]
     },
     "execution_count": 84,
     "metadata": {},
     "output_type": "execute_result"
    }
   ],
   "source": [
    "#integer to string\n",
    "\n",
    "a=200\n",
    "type(a)"
   ]
  },
  {
   "cell_type": "code",
   "execution_count": 85,
   "id": "563af011-260a-47f2-8b58-5ec53b38d690",
   "metadata": {},
   "outputs": [
    {
     "data": {
      "text/plain": [
       "str"
      ]
     },
     "execution_count": 85,
     "metadata": {},
     "output_type": "execute_result"
    }
   ],
   "source": [
    "c=str(a)\n",
    "type(c)\n"
   ]
  },
  {
   "cell_type": "code",
   "execution_count": 86,
   "id": "efa261bb-5c8e-4831-845e-93b5424fe6d4",
   "metadata": {},
   "outputs": [
    {
     "data": {
      "text/plain": [
       "'200'"
      ]
     },
     "execution_count": 86,
     "metadata": {},
     "output_type": "execute_result"
    }
   ],
   "source": [
    "str(c)"
   ]
  },
  {
   "cell_type": "code",
   "execution_count": 87,
   "id": "1dfaac6a-cd0f-4456-a23d-c3c4d93939cb",
   "metadata": {},
   "outputs": [
    {
     "data": {
      "text/plain": [
       "9.7"
      ]
     },
     "execution_count": 87,
     "metadata": {},
     "output_type": "execute_result"
    }
   ],
   "source": [
    "#typecasting-implicit and explicit\n",
    "\n",
    "#implicit typecasting- python understands the standard datatype\n",
    "\n",
    "4+5.7\n",
    "\n"
   ]
  },
  {
   "cell_type": "code",
   "execution_count": 88,
   "id": "f112f640-f1f0-409d-b059-f25d274d733f",
   "metadata": {},
   "outputs": [
    {
     "data": {
      "text/plain": [
       "32"
      ]
     },
     "execution_count": 88,
     "metadata": {},
     "output_type": "execute_result"
    }
   ],
   "source": [
    "6+26"
   ]
  },
  {
   "cell_type": "code",
   "execution_count": 89,
   "id": "f7a9fd12-8247-4cde-b91c-02d4d18aaed4",
   "metadata": {
    "jupyter": {
     "source_hidden": true
    },
    "tags": []
   },
   "outputs": [
    {
     "data": {
      "text/plain": [
       "str"
      ]
     },
     "execution_count": 89,
     "metadata": {},
     "output_type": "execute_result"
    }
   ],
   "source": [
    "#explicit typecasting -convert datatype using inbuilt functions>> str, float , int, bool\n",
    "\n",
    "a=\"2\"\n",
    "type(a)"
   ]
  },
  {
   "cell_type": "code",
   "execution_count": 90,
   "id": "14c77cc6-80f5-47ca-87f6-8a657c251867",
   "metadata": {},
   "outputs": [
    {
     "data": {
      "text/plain": [
       "2"
      ]
     },
     "execution_count": 90,
     "metadata": {},
     "output_type": "execute_result"
    }
   ],
   "source": [
    "int(a)"
   ]
  },
  {
   "cell_type": "code",
   "execution_count": 91,
   "id": "fbd466b9-5a89-40f4-b1b5-3204c4adc42a",
   "metadata": {},
   "outputs": [
    {
     "data": {
      "text/plain": [
       "2.0"
      ]
     },
     "execution_count": 91,
     "metadata": {},
     "output_type": "execute_result"
    }
   ],
   "source": [
    "float(a)"
   ]
  },
  {
   "cell_type": "code",
   "execution_count": 92,
   "id": "15ebffe6-077e-4078-9740-cfd8f71768ce",
   "metadata": {},
   "outputs": [
    {
     "data": {
      "text/plain": [
       "False"
      ]
     },
     "execution_count": 92,
     "metadata": {},
     "output_type": "execute_result"
    }
   ],
   "source": [
    "#bool\n",
    "\n",
    "bool(0)"
   ]
  },
  {
   "cell_type": "code",
   "execution_count": 93,
   "id": "c53eb64c-37d1-4d89-b9c2-3695c04858e1",
   "metadata": {},
   "outputs": [
    {
     "data": {
      "text/plain": [
       "True"
      ]
     },
     "execution_count": 93,
     "metadata": {},
     "output_type": "execute_result"
    }
   ],
   "source": [
    "\n",
    "bool(1)"
   ]
  },
  {
   "cell_type": "code",
   "execution_count": 94,
   "id": "df5afef1-a66a-4e6f-b9bb-9838e68b3ef7",
   "metadata": {},
   "outputs": [
    {
     "data": {
      "text/plain": [
       "False"
      ]
     },
     "execution_count": 94,
     "metadata": {},
     "output_type": "execute_result"
    }
   ],
   "source": [
    "bool(\"\") #empty string"
   ]
  },
  {
   "cell_type": "code",
   "execution_count": 95,
   "id": "75165bc8-c7e2-4b59-8e1d-40b486d05005",
   "metadata": {},
   "outputs": [
    {
     "ename": "TypeError",
     "evalue": "can only concatenate str (not \"int\") to str",
     "output_type": "error",
     "traceback": [
      "\u001b[0;31m---------------------------------------------------------------------------\u001b[0m",
      "\u001b[0;31mTypeError\u001b[0m                                 Traceback (most recent call last)",
      "Cell \u001b[0;32mIn[95], line 3\u001b[0m\n\u001b[1;32m      1\u001b[0m a\u001b[38;5;241m=\u001b[39m\u001b[38;5;124m\"\u001b[39m\u001b[38;5;124mAjay\u001b[39m\u001b[38;5;124m\"\u001b[39m\n\u001b[1;32m      2\u001b[0m b\u001b[38;5;241m=\u001b[39m\u001b[38;5;241m5\u001b[39m\n\u001b[0;32m----> 3\u001b[0m \u001b[43ma\u001b[49m\u001b[38;5;241;43m+\u001b[39;49m\u001b[43mb\u001b[49m\n",
      "\u001b[0;31mTypeError\u001b[0m: can only concatenate str (not \"int\") to str"
     ]
    }
   ],
   "source": [
    "a=\"Atul\"\n",
    "b=5\n",
    "a+b"
   ]
  },
  {
   "cell_type": "code",
   "execution_count": 97,
   "id": "d7727000-41ec-4af5-8c7c-f88a10d65952",
   "metadata": {},
   "outputs": [
    {
     "data": {
      "text/plain": [
       "'AtulKishore Rastogi'"
      ]
     },
     "execution_count": 97,
     "metadata": {},
     "output_type": "execute_result"
    }
   ],
   "source": [
    "a=\"Atul\"\n",
    "b=\"Kishore Rastogi\"\n",
    "a+b             #this is called concatenation of string>> meams combine the string"
   ]
  },
  {
   "cell_type": "code",
   "execution_count": 98,
   "id": "3cf9021e-b2c2-4c7c-9779-fa3a23fbee1e",
   "metadata": {},
   "outputs": [
    {
     "name": "stdout",
     "output_type": "stream",
     "text": [
      "The number is greater than 0\n"
     ]
    }
   ],
   "source": [
    "#How do conditional statements work in Python? Illustrate with examples\n",
    "\n",
    "\n",
    "#conditional statement- helps you to code decisions based on some preconditions \n",
    "#if\n",
    "#if else\n",
    "#if elif(else if)else\n",
    "#nested if-else\n",
    "\n",
    "\n",
    "#if statement- It is used to decide whether a certain statement or block of statements will be executed or not.\n",
    "\n",
    "a=30\n",
    "if a>0: #execute the if block , if the condition is true\n",
    "    print(\"The number is greater than 0\")\n",
    "\n"
   ]
  },
  {
   "cell_type": "code",
   "execution_count": 99,
   "id": "895237d9-d2e9-4c81-a425-5d46fb760c07",
   "metadata": {},
   "outputs": [],
   "source": [
    "a=150\n",
    "if a<0:  #this condition is false so it does not executed/ #execute the if block/body of if , if the condition is true\n",
    "    print(\"The number is greater than 0\")"
   ]
  },
  {
   "cell_type": "code",
   "execution_count": 100,
   "id": "ff8adfea-2fbb-4be2-ab5a-0281dce88a52",
   "metadata": {},
   "outputs": [
    {
     "name": "stdout",
     "output_type": "stream",
     "text": [
      "The number is even\n"
     ]
    }
   ],
   "source": [
    "number=6\n",
    "if number% 6== 0:\n",
    "    print(\"The number is even\")"
   ]
  },
  {
   "cell_type": "code",
   "execution_count": 118,
   "id": "e0e548fb-76d4-4b79-b39d-e5f356827a74",
   "metadata": {},
   "outputs": [
    {
     "name": "stdin",
     "output_type": "stream",
     "text": [
      "Enter a number 4\n"
     ]
    },
    {
     "name": "stdout",
     "output_type": "stream",
     "text": [
      "Bye\n"
     ]
    }
   ],
   "source": [
    "#if-else condition- execute the if block when condition is true else execute else block\n",
    "\n",
    "num=int(input(\"Enter a number\"))\n",
    "if num % 5 ==0:\n",
    "    print(\"Hello\")\n",
    "else:\n",
    "    print(\"Bye\")\n"
   ]
  },
  {
   "cell_type": "code",
   "execution_count": 117,
   "id": "c2007dc9-f91e-4be4-9613-193906f8fd70",
   "metadata": {},
   "outputs": [
    {
     "name": "stdin",
     "output_type": "stream",
     "text": [
      "Enter any  number 33\n"
     ]
    },
    {
     "name": "stdout",
     "output_type": "stream",
     "text": [
      "Num is disvisble by 3\n"
     ]
    }
   ],
   "source": [
    "num=int(input(\"Enter any  number\"))\n",
    "if num % 3==0:\n",
    "    print(\"Num is disvisble by 3\")\n",
    "else:\n",
    "     print(\"Num is  not disvisble by 3\")"
   ]
  },
  {
   "cell_type": "code",
   "execution_count": 103,
   "id": "a5062f20-f954-4808-a1b2-c37e1db634e4",
   "metadata": {},
   "outputs": [
    {
     "name": "stdout",
     "output_type": "stream",
     "text": [
      "Grade B\n"
     ]
    }
   ],
   "source": [
    "#if else-two condition\n",
    "#in real life we can have multiple condition\n",
    "#syntax\n",
    "#if some condition\n",
    "#elif some condition\n",
    "#else\n",
    "\n",
    "score=80\n",
    "if score>=90:\n",
    "    print(\"Grade A\")\n",
    "elif (80<=score<90):\n",
    "    print(\"Grade B\")\n",
    "elif(70<=score<80):\n",
    "    print(\"Grade C\")\n",
    "else:\n",
    "    print(\"Grade D\")\n",
    "\n"
   ]
  },
  {
   "cell_type": "code",
   "execution_count": 104,
   "id": "24491410-719e-4145-a8ef-8a3c0f2e81ce",
   "metadata": {},
   "outputs": [
    {
     "name": "stdout",
     "output_type": "stream",
     "text": [
      "Grade A\n"
     ]
    }
   ],
   "source": [
    "score=100\n",
    "if score>=90:\n",
    "    print(\"Grade A\")\n",
    "elif (80<=score<90):\n",
    "    print(\"Grade B\")\n",
    "elif(70<=score<80):\n",
    "    print(\"Grade C\")\n",
    "else:\n",
    "    print(\"Grade D\")"
   ]
  },
  {
   "cell_type": "code",
   "execution_count": 112,
   "id": "b92b779e-ead4-46e7-a061-d7b0a4e0fae7",
   "metadata": {},
   "outputs": [
    {
     "name": "stdout",
     "output_type": "stream",
     "text": [
      "x is not greater than 5\n"
     ]
    }
   ],
   "source": [
    "#nested if else- you can have multiple if else inside if else\n",
    "\n",
    "x=4\n",
    "y=5\n",
    "if x > 4:\n",
    "    if y > 5:\n",
    "        print(\"Both x and y is greater than 5\")\n",
    "    else:\n",
    "            print(\"x is greater than 5 but y is less than 5\")\n",
    "else:\n",
    "    print(\"x is not greater than 5\")"
   ]
  },
  {
   "cell_type": "code",
   "execution_count": 116,
   "id": "9302a78c-da1f-4eac-b328-ce3fd2661069",
   "metadata": {},
   "outputs": [
    {
     "name": "stdout",
     "output_type": "stream",
     "text": [
      "0\n",
      "1\n",
      "2\n",
      "3\n",
      "4\n",
      "5\n",
      "6\n",
      "7\n",
      "8\n",
      "9\n",
      "10\n"
     ]
    }
   ],
   "source": [
    "# Describe the different types of loops in Python and their use cases with examples.\n",
    "\n",
    "#loop statement-It allows you to execute the block of code repeatedly\n",
    "#loops- while loop and for loops\n",
    "\n",
    "\n",
    "#while loop-repeatedly execute a block of code untill a condition is met\n",
    "#syntax\n",
    "#while condition:\n",
    "#block of code\n",
    "#>> while is a keyword used for a while loop\n",
    "\n",
    "num=0\n",
    "while num<=10:\n",
    "    print(num)\n",
    "    num=num+1\n",
    "\n",
    "\n",
    "\n"
   ]
  },
  {
   "cell_type": "code",
   "execution_count": 108,
   "id": "f87b1f8e-3769-45bf-b372-61cbd1522ecc",
   "metadata": {},
   "outputs": [
    {
     "name": "stdout",
     "output_type": "stream",
     "text": [
      "1\n",
      "2\n"
     ]
    }
   ],
   "source": [
    "#break-terminates/exit the loop\n",
    "#the condition is met it will break the loop\n",
    "\n",
    "\n",
    "n=9\n",
    "i=1\n",
    "while i<n:  \n",
    "    print(i)\n",
    "    i=i+1\n",
    "    if i==3:\n",
    "        break  #means exit\n",
    "else:\n",
    "    print(\"This will executed when while is run succesfully without any break\")\n"
   ]
  },
  {
   "cell_type": "code",
   "execution_count": 109,
   "id": "9699175f-896f-4052-9625-0d826cc54c03",
   "metadata": {},
   "outputs": [
    {
     "name": "stdout",
     "output_type": "stream",
     "text": [
      "2\n",
      "4\n",
      "5\n",
      "6\n",
      "This will executed when while  is run succesfully without any break\n"
     ]
    }
   ],
   "source": [
    "#continue- skips the iteration\n",
    "\n",
    "n=6\n",
    "i=1\n",
    "while i<n:  \n",
    "    i=i+1\n",
    "    if i==3:\n",
    "        continue\n",
    "    print(i)\n",
    "else:\n",
    "    print(\"This will executed when while  is run succesfully without any break\")"
   ]
  },
  {
   "cell_type": "code",
   "execution_count": 110,
   "id": "3332cef9-50e2-4022-9cff-a3124b220bc6",
   "metadata": {},
   "outputs": [
    {
     "name": "stdout",
     "output_type": "stream",
     "text": [
      "T\n",
      "u\n",
      "s\n",
      "h\n",
      "a\n",
      "r\n"
     ]
    }
   ],
   "source": [
    "#for loops-iterate over a sequence of elements>> strings , list  \n",
    "\n",
    "a=\"Tushar\"\n",
    "for i in a:\n",
    "    print(i)"
   ]
  },
  {
   "cell_type": "code",
   "execution_count": 111,
   "id": "b87eef79-d15b-43a8-8781-b1dde9d155d4",
   "metadata": {},
   "outputs": [
    {
     "name": "stdout",
     "output_type": "stream",
     "text": [
      "1\n",
      "4\n",
      "Sanjay\n",
      "close\n"
     ]
    }
   ],
   "source": [
    "#list\n",
    "\n",
    "l=[1, 4,\"Sanjay\", \"close\"]\n",
    "for i in l:\n",
    "    print(i)\n"
   ]
  },
  {
   "cell_type": "code",
   "execution_count": 114,
   "id": "9167a5ba-5e90-4081-9064-4ab55c50d8ee",
   "metadata": {},
   "outputs": [
    {
     "name": "stdout",
     "output_type": "stream",
     "text": [
      "1\n",
      "4\n"
     ]
    }
   ],
   "source": [
    "#break statement in for loop\n",
    "\n",
    "for i in l:\n",
    "    if i ==\"Sanjay\":\n",
    "        break\n",
    "    print(i)\n",
    "else:\n",
    "        print(\"This will be executed when for loop ends without a  break statement\")\n",
    "    "
   ]
  },
  {
   "cell_type": "code",
   "execution_count": 115,
   "id": "f76524cd-8451-41c1-8a31-fb2cf11f99fc",
   "metadata": {},
   "outputs": [
    {
     "name": "stdout",
     "output_type": "stream",
     "text": [
      "1\n",
      "4\n",
      "Sanjay\n",
      "This will be executed when for loop ends without a  break statement\n"
     ]
    }
   ],
   "source": [
    "#continue\n",
    "for i in l:\n",
    "    if i==\"close\":\n",
    "        continue #skip the iteration\n",
    "    print(i)\n",
    "else:\n",
    "    print(\"This will be executed when for loop ends without a  break statement\")\n",
    "    "
   ]
  },
  {
   "cell_type": "code",
   "execution_count": 1,
   "id": "f0d8d660-edd0-476e-81fd-d8fc2389ba4e",
   "metadata": {},
   "outputs": [
    {
     "data": {
      "text/plain": [
       "[0, 1, 2, 3, 4, 5, 6, 7, 8, 9, 10, 11, 12, 13, 14, 15, 16, 17, 18, 19]"
      ]
     },
     "execution_count": 1,
     "metadata": {},
     "output_type": "execute_result"
    }
   ],
   "source": [
    "#range(0 to 20) it will give value from 0 to 19\n",
    "list(range(0 , 20))"
   ]
  },
  {
   "cell_type": "code",
   "execution_count": 2,
   "id": "90a0479d-0fd9-4cc9-b30b-6af356954be3",
   "metadata": {},
   "outputs": [
    {
     "name": "stdout",
     "output_type": "stream",
     "text": [
      "0\n",
      "1\n",
      "2\n",
      "3\n",
      "4\n",
      "5\n",
      "6\n",
      "7\n",
      "8\n",
      "9\n",
      "10\n",
      "11\n",
      "12\n",
      "13\n",
      "14\n",
      "15\n",
      "16\n",
      "17\n",
      "18\n",
      "19\n",
      "20\n",
      "21\n",
      "22\n",
      "23\n",
      "24\n",
      "25\n",
      "26\n",
      "27\n",
      "28\n",
      "29\n",
      "30\n",
      "31\n",
      "32\n",
      "33\n",
      "34\n",
      "35\n",
      "36\n",
      "37\n",
      "38\n",
      "39\n",
      "40\n",
      "41\n",
      "42\n",
      "43\n",
      "44\n",
      "45\n",
      "46\n",
      "47\n",
      "48\n",
      "49\n",
      "50\n",
      "51\n",
      "52\n",
      "53\n",
      "54\n",
      "55\n",
      "56\n",
      "57\n",
      "58\n",
      "59\n",
      "60\n",
      "61\n",
      "62\n",
      "63\n",
      "64\n",
      "65\n",
      "66\n",
      "67\n",
      "68\n",
      "69\n",
      "70\n",
      "71\n",
      "72\n",
      "73\n",
      "74\n",
      "75\n",
      "76\n",
      "77\n",
      "78\n",
      "79\n",
      "80\n",
      "81\n",
      "82\n",
      "83\n",
      "84\n",
      "85\n",
      "86\n",
      "87\n",
      "88\n",
      "89\n",
      "90\n",
      "91\n",
      "92\n",
      "93\n",
      "94\n",
      "95\n",
      "96\n",
      "97\n",
      "98\n",
      "99\n"
     ]
    }
   ],
   "source": [
    "for i in range(100):\n",
    "    print(i)"
   ]
  },
  {
   "cell_type": "code",
   "execution_count": 5,
   "id": "ac24d9de-bbc9-43e6-931a-fa069d87d3c2",
   "metadata": {},
   "outputs": [
    {
     "name": "stdout",
     "output_type": "stream",
     "text": [
      "1\n",
      "2\n"
     ]
    }
   ],
   "source": [
    "#conditionals with for loops\n",
    "\n",
    "\n",
    "number=[1,2,3,4,5,6,7,8,9]\n",
    "for num in number:\n",
    "    if num==3 or num==7:\n",
    "        break\n",
    "    print(num)"
   ]
  },
  {
   "cell_type": "code",
   "execution_count": 6,
   "id": "fa79080c-229b-4497-8d79-82285460995a",
   "metadata": {},
   "outputs": [
    {
     "name": "stdout",
     "output_type": "stream",
     "text": [
      "0 1 2 3 4 5 6 7 8 9 "
     ]
    }
   ],
   "source": [
    "for i in range(10):\n",
    "    print(i , end = \" \")"
   ]
  },
  {
   "cell_type": "code",
   "execution_count": 7,
   "id": "d2dc1a9f-d815-4ba4-a6d1-4b565a1e310c",
   "metadata": {},
   "outputs": [
    {
     "name": "stdout",
     "output_type": "stream",
     "text": [
      "0# 1# 2# 3# 4# 5# 6# 7# 8# 9# "
     ]
    }
   ],
   "source": [
    "for i in range(10):\n",
    "    print(i , end = \"# \")"
   ]
  },
  {
   "cell_type": "code",
   "execution_count": 8,
   "id": "89c6d1f3-6548-48a0-982f-3936749b7a75",
   "metadata": {},
   "outputs": [
    {
     "name": "stdout",
     "output_type": "stream",
     "text": [
      "0 ,1 ,2 ,3 ,4 ,5 ,6 ,7 ,8 ,9 ,"
     ]
    }
   ],
   "source": [
    "for i in range(10):\n",
    "    print(i , end = \" ,\")"
   ]
  },
  {
   "cell_type": "code",
   "execution_count": null,
   "id": "bc865ff8-84fe-4cae-8e21-4eb0b57570cc",
   "metadata": {},
   "outputs": [],
   "source": []
  }
 ],
 "metadata": {
  "kernelspec": {
   "display_name": "Python 3 (ipykernel)",
   "language": "python",
   "name": "python3"
  },
  "language_info": {
   "codemirror_mode": {
    "name": "ipython",
    "version": 3
   },
   "file_extension": ".py",
   "mimetype": "text/x-python",
   "name": "python",
   "nbconvert_exporter": "python",
   "pygments_lexer": "ipython3",
   "version": "3.10.8"
  }
 },
 "nbformat": 4,
 "nbformat_minor": 5
}
